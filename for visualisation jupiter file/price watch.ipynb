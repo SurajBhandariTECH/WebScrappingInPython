{
 "cells": [
  {
   "cell_type": "code",
   "execution_count": 20,
   "metadata": {},
   "outputs": [],
   "source": [
    "\n",
    "from webdriver_manager.chrome import ChromeDriverManager         #use to install the webdriver for chrome and store in cache \n",
    "from selenium import webdriver                                   #RUN THE WEBDRIVER eg chormedriver\n",
    "from selenium.webdriver.common.action_chains import ActionChains\n",
    "import pandas as pd                                               #for converting data into table,create dataFrames\n",
    "from IPython.core.display import HTML\n",
    "HTML(\"<b>Rendered HTML</b>\")\n",
    "\n",
    "from bs4 import BeautifulSoup    "
   ]
  },
  {
   "cell_type": "code",
   "execution_count": 21,
   "metadata": {},
   "outputs": [],
   "source": [
    "url = \"https://www1.nseindia.com/companytracker/cmtracker.jsp?symbol=INFY&cName=cmtracker_nsedef.css#\""
   ]
  },
  {
   "cell_type": "code",
   "execution_count": 40,
   "metadata": {},
   "outputs": [
    {
     "name": "stderr",
     "output_type": "stream",
     "text": [
      "\n",
      "\n",
      "====== WebDriver manager ======\n",
      "Current google-chrome version is 91.0.4472\n",
      "Get LATEST driver version for 91.0.4472\n",
      "Driver [C:\\Users\\Suraj Singh Bhandari\\.wdm\\drivers\\chromedriver\\win32\\91.0.4472.101\\chromedriver.exe] found in cache\n"
     ]
    }
   ],
   "source": [
    "driver = webdriver.Chrome(ChromeDriverManager().install()) #For installing chromeDriver\n",
    "driver.get(url)                                            #get the url page\n",
    "import time\n",
    "time.sleep(5)"
   ]
  },
  {
   "cell_type": "code",
   "execution_count": 41,
   "metadata": {},
   "outputs": [],
   "source": [
    "action = ActionChains(driver)\n",
    "html = driver.page_source              \n",
    "soup = BeautifulSoup(html,\"html.parser\")         #parse the page source into html\n",
    "\n",
    "time.sleep(7)"
   ]
  },
  {
   "cell_type": "code",
   "execution_count": 56,
   "metadata": {},
   "outputs": [],
   "source": [
    "result = soup.find('div',attrs={'id': 'centertab'})\n",
    "new_result = list(result.children)[1]\n",
    "next_result = list(new_result.children)[1]\n"
   ]
  },
  {
   "cell_type": "code",
   "execution_count": 139,
   "metadata": {},
   "outputs": [],
   "source": [
    "#security information\n",
    "Equality_Shares= soup.find(\"td\",attrs={\"class\":'specialhead2_leftalign'}).text\n",
    "Most_Active_Futures = \"Most Active Futures \\n\" + soup.find(\"div\",attrs={\"id\":'strike_price_futstk'}).text\n",
    "Most_Active_Call =\"Most_Active_Call\\n \"+ soup.find(\"div\",attrs={\"id\":'strike_price_ca'}).text\n",
    "Most_Active_Put = \"Most_Active_Put \\n\" + soup.find(\"div\",attrs={\"id\":'strike_price_pa'}).text\n",
    "Most_Active_Nifty_Futures = \"Most_Active_Nifty_Futures \\n\"+ soup.find(\"div\",attrs={\"id\":'strike_price_nifty'}).text\n",
    "Most_Active_Midcap_Futures =\" Most_Active_Midcap_Futures \"\n",
    "\n",
    "lis_security = [Equality_Shares,Most_Active_Futures,Most_Active_Call,Most_Active_Put,\n",
    "                Most_Active_Nifty_Futures,Most_Active_Midcap_Futures]"
   ]
  },
  {
   "cell_type": "code",
   "execution_count": 155,
   "metadata": {},
   "outputs": [],
   "source": [
    "#LTP column\n",
    "LTP_list = [soup.find(\"div\",attrs={\"id\":'ltp_cm'}).text,soup.find(\"div\",attrs={\"id\":'ltp_futstk'}).text,\n",
    "           soup.find(\"div\",attrs={\"id\":'ltp_ca'}).text,\n",
    "           soup.find(\"div\",attrs={\"id\":'ltp_pa'}).text,\n",
    "           soup.find(\"div\",attrs={\"id\":'ltp_nifty'}).text,\n",
    "           '-']"
   ]
  },
  {
   "cell_type": "code",
   "execution_count": 156,
   "metadata": {},
   "outputs": [
    {
     "data": {
      "text/plain": [
       "['1556.75', '1559.80', '8.45', '21.50', '15938.75', '-']"
      ]
     },
     "execution_count": 156,
     "metadata": {},
     "output_type": "execute_result"
    }
   ],
   "source": [
    "LTP_list\n"
   ]
  },
  {
   "cell_type": "code",
   "execution_count": 157,
   "metadata": {},
   "outputs": [],
   "source": [
    "#buy_quantity\n",
    "buy_qty = [soup.find(\"div\",attrs={\"id\":'buy_qty_cm'}).text,\n",
    "          soup.find(\"div\",attrs={\"id\":'buy_qty_futstk'}).text,\n",
    "          soup.find(\"div\",attrs={\"id\":'buy_qty_ca'}).text,\n",
    "          soup.find(\"div\",attrs={\"id\":'buy_qty_pa'}).text,\n",
    "           soup.find(\"div\",attrs={\"id\":'buy_qty_nifty'}).text,\"-\"]"
   ]
  },
  {
   "cell_type": "code",
   "execution_count": 158,
   "metadata": {},
   "outputs": [
    {
     "data": {
      "text/plain": [
       "['1185', '600', '1200', '600', '100', '-']"
      ]
     },
     "execution_count": 158,
     "metadata": {},
     "output_type": "execute_result"
    }
   ],
   "source": [
    "buy_qty"
   ]
  },
  {
   "cell_type": "code",
   "execution_count": 159,
   "metadata": {},
   "outputs": [],
   "source": [
    "buy_Price = [soup.find(\"div\",attrs={\"id\":'buy_price_cm'}).text,\n",
    "          soup.find(\"div\",attrs={\"id\":'buy_price_futstk'}).text,\n",
    "          soup.find(\"div\",attrs={\"id\":'buy_price_ca'}).text,\n",
    "          soup.find(\"div\",attrs={\"id\":'buy_price_pa'}).text,\n",
    "           soup.find(\"div\",attrs={\"id\":'buy_price_nifty'}).text,\"-\"]"
   ]
  },
  {
   "cell_type": "code",
   "execution_count": 160,
   "metadata": {},
   "outputs": [],
   "source": [
    "Sell_Price = [soup.find(\"div\",attrs={\"id\":'sell_price_cm'}).text,\n",
    "          soup.find(\"div\",attrs={\"id\":'sell_price_futstk'}).text,\n",
    "          soup.find(\"div\",attrs={\"id\":'sell_price_ca'}).text,\n",
    "          soup.find(\"div\",attrs={\"id\":'sell_price_pa'}).text,\n",
    "           soup.find(\"div\",attrs={\"id\":'sell_price_nifty'}).text,\"-\"]"
   ]
  },
  {
   "cell_type": "code",
   "execution_count": 161,
   "metadata": {},
   "outputs": [],
   "source": [
    "Sell_Qty = [soup.find(\"div\",attrs={\"id\":'sell_qty_cm'}).text,\n",
    "          soup.find(\"div\",attrs={\"id\":'sell_qty_futstk'}).text,\n",
    "          soup.find(\"div\",attrs={\"id\":'sell_qty_ca'}).text,\n",
    "          soup.find(\"div\",attrs={\"id\":'sell_qty_pa'}).text,\n",
    "           soup.find(\"div\",attrs={\"id\":'sell_qty_nifty'}).text,\"-\"]"
   ]
  },
  {
   "cell_type": "code",
   "execution_count": 162,
   "metadata": {},
   "outputs": [],
   "source": [
    "TurnOver =  [soup.find(\"div\",attrs={\"id\":'turnover_cm'}).text,\n",
    "          soup.find(\"div\",attrs={\"id\":'turnover_futstk'}).text,\n",
    "          soup.find(\"div\",attrs={\"id\":'turnover_ca'}).text,\n",
    "          soup.find(\"div\",attrs={\"id\":'turnover_pa'}).text,\n",
    "           soup.find(\"div\",attrs={\"id\":'turnover_nifty'}).text,\"-\"]"
   ]
  },
  {
   "cell_type": "code",
   "execution_count": 163,
   "metadata": {},
   "outputs": [],
   "source": [
    "premiumTurnOver = [soup.find(\"div\",attrs={\"class\":'tablerow1'}),\n",
    "          soup.find(\"div\",attrs={\"class\":'tablerow1'}),\n",
    "          soup.find(\"div\",attrs={\"id\":'premturnover_ca'}).text,\n",
    "          soup.find(\"div\",attrs={\"id\":'premturnover_pa'}).text,\n",
    "           soup.find(\"div\",attrs={\"class\":'tablerow1'}),\"-\"]"
   ]
  },
  {
   "cell_type": "code",
   "execution_count": 164,
   "metadata": {},
   "outputs": [
    {
     "data": {
      "text/plain": [
       "[None, None, '867.70', '712.22', None, '']"
      ]
     },
     "execution_count": 164,
     "metadata": {},
     "output_type": "execute_result"
    }
   ],
   "source": [
    "premiumTrunOver"
   ]
  },
  {
   "cell_type": "code",
   "execution_count": 165,
   "metadata": {},
   "outputs": [],
   "source": [
    "dic = {'Security':lis_security, 'LTP':LTP_list, 'Buy Qty':buy_qty,'Buy Price':buy_Price, 'Sell Price':Sell_Price, \n",
    "      'Sell Qty':Sell_Qty, 'Turnover(in lakhs)':TurnOver, 'Premium Turnover(in lakhs)':premiumTrunOver}"
   ]
  },
  {
   "cell_type": "code",
   "execution_count": 166,
   "metadata": {},
   "outputs": [],
   "source": [
    "Price_Watch_table = pd.DataFrame(dic)"
   ]
  },
  {
   "cell_type": "code",
   "execution_count": 172,
   "metadata": {},
   "outputs": [
    {
     "data": {
      "text/html": [
       "<style  type=\"text/css\" >\n",
       "    #T_83adf5c0_e64b_11eb_9a02_b09c13862831 th {\n",
       "          text-align: center;\n",
       "    }    #T_83adf5c0_e64b_11eb_9a02_b09c13862831row0_col0 {\n",
       "            text-align:  left;\n",
       "        }    #T_83adf5c0_e64b_11eb_9a02_b09c13862831row0_col1 {\n",
       "            text-align:  left;\n",
       "        }    #T_83adf5c0_e64b_11eb_9a02_b09c13862831row0_col2 {\n",
       "            text-align:  left;\n",
       "        }    #T_83adf5c0_e64b_11eb_9a02_b09c13862831row0_col3 {\n",
       "            text-align:  left;\n",
       "        }    #T_83adf5c0_e64b_11eb_9a02_b09c13862831row0_col4 {\n",
       "            text-align:  left;\n",
       "        }    #T_83adf5c0_e64b_11eb_9a02_b09c13862831row0_col5 {\n",
       "            text-align:  left;\n",
       "        }    #T_83adf5c0_e64b_11eb_9a02_b09c13862831row0_col6 {\n",
       "            text-align:  left;\n",
       "        }    #T_83adf5c0_e64b_11eb_9a02_b09c13862831row0_col7 {\n",
       "            text-align:  left;\n",
       "        }    #T_83adf5c0_e64b_11eb_9a02_b09c13862831row1_col0 {\n",
       "            text-align:  left;\n",
       "        }    #T_83adf5c0_e64b_11eb_9a02_b09c13862831row1_col1 {\n",
       "            text-align:  left;\n",
       "        }    #T_83adf5c0_e64b_11eb_9a02_b09c13862831row1_col2 {\n",
       "            text-align:  left;\n",
       "        }    #T_83adf5c0_e64b_11eb_9a02_b09c13862831row1_col3 {\n",
       "            text-align:  left;\n",
       "        }    #T_83adf5c0_e64b_11eb_9a02_b09c13862831row1_col4 {\n",
       "            text-align:  left;\n",
       "        }    #T_83adf5c0_e64b_11eb_9a02_b09c13862831row1_col5 {\n",
       "            text-align:  left;\n",
       "        }    #T_83adf5c0_e64b_11eb_9a02_b09c13862831row1_col6 {\n",
       "            text-align:  left;\n",
       "        }    #T_83adf5c0_e64b_11eb_9a02_b09c13862831row1_col7 {\n",
       "            text-align:  left;\n",
       "        }    #T_83adf5c0_e64b_11eb_9a02_b09c13862831row2_col0 {\n",
       "            text-align:  left;\n",
       "        }    #T_83adf5c0_e64b_11eb_9a02_b09c13862831row2_col1 {\n",
       "            text-align:  left;\n",
       "        }    #T_83adf5c0_e64b_11eb_9a02_b09c13862831row2_col2 {\n",
       "            text-align:  left;\n",
       "        }    #T_83adf5c0_e64b_11eb_9a02_b09c13862831row2_col3 {\n",
       "            text-align:  left;\n",
       "        }    #T_83adf5c0_e64b_11eb_9a02_b09c13862831row2_col4 {\n",
       "            text-align:  left;\n",
       "        }    #T_83adf5c0_e64b_11eb_9a02_b09c13862831row2_col5 {\n",
       "            text-align:  left;\n",
       "        }    #T_83adf5c0_e64b_11eb_9a02_b09c13862831row2_col6 {\n",
       "            text-align:  left;\n",
       "        }    #T_83adf5c0_e64b_11eb_9a02_b09c13862831row2_col7 {\n",
       "            text-align:  left;\n",
       "        }    #T_83adf5c0_e64b_11eb_9a02_b09c13862831row3_col0 {\n",
       "            text-align:  left;\n",
       "        }    #T_83adf5c0_e64b_11eb_9a02_b09c13862831row3_col1 {\n",
       "            text-align:  left;\n",
       "        }    #T_83adf5c0_e64b_11eb_9a02_b09c13862831row3_col2 {\n",
       "            text-align:  left;\n",
       "        }    #T_83adf5c0_e64b_11eb_9a02_b09c13862831row3_col3 {\n",
       "            text-align:  left;\n",
       "        }    #T_83adf5c0_e64b_11eb_9a02_b09c13862831row3_col4 {\n",
       "            text-align:  left;\n",
       "        }    #T_83adf5c0_e64b_11eb_9a02_b09c13862831row3_col5 {\n",
       "            text-align:  left;\n",
       "        }    #T_83adf5c0_e64b_11eb_9a02_b09c13862831row3_col6 {\n",
       "            text-align:  left;\n",
       "        }    #T_83adf5c0_e64b_11eb_9a02_b09c13862831row3_col7 {\n",
       "            text-align:  left;\n",
       "        }    #T_83adf5c0_e64b_11eb_9a02_b09c13862831row4_col0 {\n",
       "            text-align:  left;\n",
       "        }    #T_83adf5c0_e64b_11eb_9a02_b09c13862831row4_col1 {\n",
       "            text-align:  left;\n",
       "        }    #T_83adf5c0_e64b_11eb_9a02_b09c13862831row4_col2 {\n",
       "            text-align:  left;\n",
       "        }    #T_83adf5c0_e64b_11eb_9a02_b09c13862831row4_col3 {\n",
       "            text-align:  left;\n",
       "        }    #T_83adf5c0_e64b_11eb_9a02_b09c13862831row4_col4 {\n",
       "            text-align:  left;\n",
       "        }    #T_83adf5c0_e64b_11eb_9a02_b09c13862831row4_col5 {\n",
       "            text-align:  left;\n",
       "        }    #T_83adf5c0_e64b_11eb_9a02_b09c13862831row4_col6 {\n",
       "            text-align:  left;\n",
       "        }    #T_83adf5c0_e64b_11eb_9a02_b09c13862831row4_col7 {\n",
       "            text-align:  left;\n",
       "        }    #T_83adf5c0_e64b_11eb_9a02_b09c13862831row5_col0 {\n",
       "            text-align:  left;\n",
       "        }    #T_83adf5c0_e64b_11eb_9a02_b09c13862831row5_col1 {\n",
       "            text-align:  left;\n",
       "        }    #T_83adf5c0_e64b_11eb_9a02_b09c13862831row5_col2 {\n",
       "            text-align:  left;\n",
       "        }    #T_83adf5c0_e64b_11eb_9a02_b09c13862831row5_col3 {\n",
       "            text-align:  left;\n",
       "        }    #T_83adf5c0_e64b_11eb_9a02_b09c13862831row5_col4 {\n",
       "            text-align:  left;\n",
       "        }    #T_83adf5c0_e64b_11eb_9a02_b09c13862831row5_col5 {\n",
       "            text-align:  left;\n",
       "        }    #T_83adf5c0_e64b_11eb_9a02_b09c13862831row5_col6 {\n",
       "            text-align:  left;\n",
       "        }    #T_83adf5c0_e64b_11eb_9a02_b09c13862831row5_col7 {\n",
       "            text-align:  left;\n",
       "        }</style><table id=\"T_83adf5c0_e64b_11eb_9a02_b09c13862831\" ><thead>    <tr>        <th class=\"blank level0\" ></th>        <th class=\"col_heading level0 col0\" >Security</th>        <th class=\"col_heading level0 col1\" >LTP</th>        <th class=\"col_heading level0 col2\" >Buy Qty</th>        <th class=\"col_heading level0 col3\" >Buy Price</th>        <th class=\"col_heading level0 col4\" >Sell Price</th>        <th class=\"col_heading level0 col5\" >Sell Qty</th>        <th class=\"col_heading level0 col6\" >Turnover(in lakhs)</th>        <th class=\"col_heading level0 col7\" >Premium Turnover(in lakhs)</th>    </tr></thead><tbody>\n",
       "                <tr>\n",
       "                        <th id=\"T_83adf5c0_e64b_11eb_9a02_b09c13862831level0_row0\" class=\"row_heading level0 row0\" >0</th>\n",
       "                        <td id=\"T_83adf5c0_e64b_11eb_9a02_b09c13862831row0_col0\" class=\"data row0 col0\" >Equity Shares</td>\n",
       "                        <td id=\"T_83adf5c0_e64b_11eb_9a02_b09c13862831row0_col1\" class=\"data row0 col1\" >1556.75</td>\n",
       "                        <td id=\"T_83adf5c0_e64b_11eb_9a02_b09c13862831row0_col2\" class=\"data row0 col2\" >1185</td>\n",
       "                        <td id=\"T_83adf5c0_e64b_11eb_9a02_b09c13862831row0_col3\" class=\"data row0 col3\" >1555.45</td>\n",
       "                        <td id=\"T_83adf5c0_e64b_11eb_9a02_b09c13862831row0_col4\" class=\"data row0 col4\" >-</td>\n",
       "                        <td id=\"T_83adf5c0_e64b_11eb_9a02_b09c13862831row0_col5\" class=\"data row0 col5\" >-</td>\n",
       "                        <td id=\"T_83adf5c0_e64b_11eb_9a02_b09c13862831row0_col6\" class=\"data row0 col6\" >97753.28</td>\n",
       "                        <td id=\"T_83adf5c0_e64b_11eb_9a02_b09c13862831row0_col7\" class=\"data row0 col7\" >None</td>\n",
       "            </tr>\n",
       "            <tr>\n",
       "                        <th id=\"T_83adf5c0_e64b_11eb_9a02_b09c13862831level0_row1\" class=\"row_heading level0 row1\" >1</th>\n",
       "                        <td id=\"T_83adf5c0_e64b_11eb_9a02_b09c13862831row1_col0\" class=\"data row1 col0\" >Most Active Futures \n",
       "29-JUL-2021</td>\n",
       "                        <td id=\"T_83adf5c0_e64b_11eb_9a02_b09c13862831row1_col1\" class=\"data row1 col1\" >1559.80</td>\n",
       "                        <td id=\"T_83adf5c0_e64b_11eb_9a02_b09c13862831row1_col2\" class=\"data row1 col2\" >600</td>\n",
       "                        <td id=\"T_83adf5c0_e64b_11eb_9a02_b09c13862831row1_col3\" class=\"data row1 col3\" >1559.45</td>\n",
       "                        <td id=\"T_83adf5c0_e64b_11eb_9a02_b09c13862831row1_col4\" class=\"data row1 col4\" >1559.75</td>\n",
       "                        <td id=\"T_83adf5c0_e64b_11eb_9a02_b09c13862831row1_col5\" class=\"data row1 col5\" >600</td>\n",
       "                        <td id=\"T_83adf5c0_e64b_11eb_9a02_b09c13862831row1_col6\" class=\"data row1 col6\" >106503.28</td>\n",
       "                        <td id=\"T_83adf5c0_e64b_11eb_9a02_b09c13862831row1_col7\" class=\"data row1 col7\" >None</td>\n",
       "            </tr>\n",
       "            <tr>\n",
       "                        <th id=\"T_83adf5c0_e64b_11eb_9a02_b09c13862831level0_row2\" class=\"row_heading level0 row2\" >2</th>\n",
       "                        <td id=\"T_83adf5c0_e64b_11eb_9a02_b09c13862831row2_col0\" class=\"data row2 col0\" >Most_Active_Call\n",
       " (1600.00)  29-JUL-2021</td>\n",
       "                        <td id=\"T_83adf5c0_e64b_11eb_9a02_b09c13862831row2_col1\" class=\"data row2 col1\" >8.45</td>\n",
       "                        <td id=\"T_83adf5c0_e64b_11eb_9a02_b09c13862831row2_col2\" class=\"data row2 col2\" >1200</td>\n",
       "                        <td id=\"T_83adf5c0_e64b_11eb_9a02_b09c13862831row2_col3\" class=\"data row2 col3\" >8.40</td>\n",
       "                        <td id=\"T_83adf5c0_e64b_11eb_9a02_b09c13862831row2_col4\" class=\"data row2 col4\" >8.50</td>\n",
       "                        <td id=\"T_83adf5c0_e64b_11eb_9a02_b09c13862831row2_col5\" class=\"data row2 col5\" >2400</td>\n",
       "                        <td id=\"T_83adf5c0_e64b_11eb_9a02_b09c13862831row2_col6\" class=\"data row2 col6\" >131965.30</td>\n",
       "                        <td id=\"T_83adf5c0_e64b_11eb_9a02_b09c13862831row2_col7\" class=\"data row2 col7\" >867.70</td>\n",
       "            </tr>\n",
       "            <tr>\n",
       "                        <th id=\"T_83adf5c0_e64b_11eb_9a02_b09c13862831level0_row3\" class=\"row_heading level0 row3\" >3</th>\n",
       "                        <td id=\"T_83adf5c0_e64b_11eb_9a02_b09c13862831row3_col0\" class=\"data row3 col0\" >Most_Active_Put \n",
       "(1560.00)  29-JUL-2021</td>\n",
       "                        <td id=\"T_83adf5c0_e64b_11eb_9a02_b09c13862831row3_col1\" class=\"data row3 col1\" >21.50</td>\n",
       "                        <td id=\"T_83adf5c0_e64b_11eb_9a02_b09c13862831row3_col2\" class=\"data row3 col2\" >600</td>\n",
       "                        <td id=\"T_83adf5c0_e64b_11eb_9a02_b09c13862831row3_col3\" class=\"data row3 col3\" >20.85</td>\n",
       "                        <td id=\"T_83adf5c0_e64b_11eb_9a02_b09c13862831row3_col4\" class=\"data row3 col4\" >21.50</td>\n",
       "                        <td id=\"T_83adf5c0_e64b_11eb_9a02_b09c13862831row3_col5\" class=\"data row3 col5\" >2400</td>\n",
       "                        <td id=\"T_83adf5c0_e64b_11eb_9a02_b09c13862831row3_col6\" class=\"data row3 col6\" >55552.46</td>\n",
       "                        <td id=\"T_83adf5c0_e64b_11eb_9a02_b09c13862831row3_col7\" class=\"data row3 col7\" >712.22</td>\n",
       "            </tr>\n",
       "            <tr>\n",
       "                        <th id=\"T_83adf5c0_e64b_11eb_9a02_b09c13862831level0_row4\" class=\"row_heading level0 row4\" >4</th>\n",
       "                        <td id=\"T_83adf5c0_e64b_11eb_9a02_b09c13862831row4_col0\" class=\"data row4 col0\" >Most_Active_Nifty_Futures \n",
       "29-JUL-2021</td>\n",
       "                        <td id=\"T_83adf5c0_e64b_11eb_9a02_b09c13862831row4_col1\" class=\"data row4 col1\" >15938.75</td>\n",
       "                        <td id=\"T_83adf5c0_e64b_11eb_9a02_b09c13862831row4_col2\" class=\"data row4 col2\" >100</td>\n",
       "                        <td id=\"T_83adf5c0_e64b_11eb_9a02_b09c13862831row4_col3\" class=\"data row4 col3\" >15938.70</td>\n",
       "                        <td id=\"T_83adf5c0_e64b_11eb_9a02_b09c13862831row4_col4\" class=\"data row4 col4\" >15938.75</td>\n",
       "                        <td id=\"T_83adf5c0_e64b_11eb_9a02_b09c13862831row4_col5\" class=\"data row4 col5\" >50</td>\n",
       "                        <td id=\"T_83adf5c0_e64b_11eb_9a02_b09c13862831row4_col6\" class=\"data row4 col6\" >639123.75</td>\n",
       "                        <td id=\"T_83adf5c0_e64b_11eb_9a02_b09c13862831row4_col7\" class=\"data row4 col7\" >None</td>\n",
       "            </tr>\n",
       "            <tr>\n",
       "                        <th id=\"T_83adf5c0_e64b_11eb_9a02_b09c13862831level0_row5\" class=\"row_heading level0 row5\" >5</th>\n",
       "                        <td id=\"T_83adf5c0_e64b_11eb_9a02_b09c13862831row5_col0\" class=\"data row5 col0\" > Most_Active_Midcap_Futures </td>\n",
       "                        <td id=\"T_83adf5c0_e64b_11eb_9a02_b09c13862831row5_col1\" class=\"data row5 col1\" >-</td>\n",
       "                        <td id=\"T_83adf5c0_e64b_11eb_9a02_b09c13862831row5_col2\" class=\"data row5 col2\" >-</td>\n",
       "                        <td id=\"T_83adf5c0_e64b_11eb_9a02_b09c13862831row5_col3\" class=\"data row5 col3\" >-</td>\n",
       "                        <td id=\"T_83adf5c0_e64b_11eb_9a02_b09c13862831row5_col4\" class=\"data row5 col4\" >-</td>\n",
       "                        <td id=\"T_83adf5c0_e64b_11eb_9a02_b09c13862831row5_col5\" class=\"data row5 col5\" >-</td>\n",
       "                        <td id=\"T_83adf5c0_e64b_11eb_9a02_b09c13862831row5_col6\" class=\"data row5 col6\" >-</td>\n",
       "                        <td id=\"T_83adf5c0_e64b_11eb_9a02_b09c13862831row5_col7\" class=\"data row5 col7\" ></td>\n",
       "            </tr>\n",
       "    </tbody></table>"
      ],
      "text/plain": [
       "<pandas.io.formats.style.Styler at 0x24be3fafac8>"
      ]
     },
     "metadata": {},
     "output_type": "display_data"
    }
   ],
   "source": [
    "left_align_Price_Watch_table = Price_Watch_table.style.set_properties(**{'text-align':\"left\"})\n",
    "left_aligned_price_watch_df = left_align_Price_Watch_table.set_table_styles(\n",
    "[dict(selector = 'th', props=[('text-align', 'center')])])\n",
    "display(left_align_Price_Watch_table)"
   ]
  },
  {
   "cell_type": "code",
   "execution_count": 173,
   "metadata": {},
   "outputs": [],
   "source": [
    "Price_Watch_table.to_csv(\"Price Watch.csv\",index =None)"
   ]
  },
  {
   "cell_type": "code",
   "execution_count": null,
   "metadata": {},
   "outputs": [],
   "source": []
  }
 ],
 "metadata": {
  "kernelspec": {
   "display_name": "Python 3",
   "language": "python",
   "name": "python3"
  },
  "language_info": {
   "codemirror_mode": {
    "name": "ipython",
    "version": 3
   },
   "file_extension": ".py",
   "mimetype": "text/x-python",
   "name": "python",
   "nbconvert_exporter": "python",
   "pygments_lexer": "ipython3",
   "version": "3.7.4"
  }
 },
 "nbformat": 4,
 "nbformat_minor": 2
}
