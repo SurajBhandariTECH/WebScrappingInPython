{
 "cells": [
  {
   "cell_type": "code",
   "execution_count": 1,
   "metadata": {},
   "outputs": [],
   "source": [
    "\n",
    "from webdriver_manager.chrome import ChromeDriverManager         #use to install the webdriver for chrome and store in cache \n",
    "from selenium import webdriver                                   #RUN THE WEBDRIVER eg chormedriver\n",
    "from selenium.webdriver.common.action_chains import ActionChains\n",
    "import pandas as pd                                               #for converting data into table,create dataFrames\n",
    "from IPython.core.display import HTML\n",
    "HTML(\"<b>Rendered HTML</b>\")\n",
    "\n",
    "from bs4 import BeautifulSoup    "
   ]
  },
  {
   "cell_type": "code",
   "execution_count": 2,
   "metadata": {},
   "outputs": [],
   "source": [
    "url = \"https://www1.nseindia.com/companytracker/cmtracker.jsp?symbol=INFY&cName=cmtracker_nsedef.css#\""
   ]
  },
  {
   "cell_type": "code",
   "execution_count": 3,
   "metadata": {},
   "outputs": [
    {
     "name": "stderr",
     "output_type": "stream",
     "text": [
      "\n",
      "\n",
      "====== WebDriver manager ======\n",
      "Current google-chrome version is 91.0.4472\n",
      "Get LATEST driver version for 91.0.4472\n",
      "Driver [C:\\Users\\Suraj Singh Bhandari\\.wdm\\drivers\\chromedriver\\win32\\91.0.4472.101\\chromedriver.exe] found in cache\n"
     ]
    }
   ],
   "source": [
    "driver = webdriver.Chrome(ChromeDriverManager().install()) #For installing chromeDriver\n",
    "driver.get(url)                                            #get the url page\n",
    "import time\n",
    "time.sleep(5)"
   ]
  },
  {
   "cell_type": "code",
   "execution_count": 4,
   "metadata": {},
   "outputs": [],
   "source": [
    "action = ActionChains(driver)\n",
    "html = driver.page_source              \n",
    "soup = BeautifulSoup(html,\"html.parser\")         #parse the page source into html\n",
    "\n",
    "time.sleep(7)"
   ]
  },
  {
   "cell_type": "code",
   "execution_count": 50,
   "metadata": {
    "scrolled": true
   },
   "outputs": [],
   "source": [
    "#company Information\n",
    "\n",
    "result = soup.find('div',attrs={'id': 'compInfo'})\n",
    "table_rows = result.find_all('tr')\n",
    "l = []\n",
    "\n",
    "for tr in table_rows:\n",
    "    td = tr.find_all('td')\n",
    "    row = [tr.text for tr in td]\n",
    "    l.append(row)\n",
    "    \n",
    "order_book_table = pd.DataFrame(l, columns=[\"Infosys Limited\"])\n",
    "order_book_table = order_book_table.drop([0], axis=0)\n"
   ]
  },
  {
   "cell_type": "code",
   "execution_count": 51,
   "metadata": {},
   "outputs": [],
   "source": [
    "order_book_table_left_align = order_book_table.style.set_properties(**{'text-align': 'left'})"
   ]
  },
  {
   "cell_type": "code",
   "execution_count": 52,
   "metadata": {},
   "outputs": [],
   "source": [
    "\n",
    "  \n",
    "left_aligned_order_df = order_book_table_left_align.set_table_styles(\n",
    "[dict(selector = 'th', props=[('text-align', 'center')])])\n",
    "  "
   ]
  },
  {
   "cell_type": "code",
   "execution_count": 53,
   "metadata": {},
   "outputs": [
    {
     "data": {
      "text/html": [
       "<style  type=\"text/css\" >\n",
       "    #T_3506477e_e650_11eb_b71d_b09c13862831 th {\n",
       "          text-align: center;\n",
       "    }    #T_3506477e_e650_11eb_b71d_b09c13862831row0_col0 {\n",
       "            text-align:  left;\n",
       "        }    #T_3506477e_e650_11eb_b71d_b09c13862831row1_col0 {\n",
       "            text-align:  left;\n",
       "        }    #T_3506477e_e650_11eb_b71d_b09c13862831row2_col0 {\n",
       "            text-align:  left;\n",
       "        }    #T_3506477e_e650_11eb_b71d_b09c13862831row3_col0 {\n",
       "            text-align:  left;\n",
       "        }    #T_3506477e_e650_11eb_b71d_b09c13862831row4_col0 {\n",
       "            text-align:  left;\n",
       "        }    #T_3506477e_e650_11eb_b71d_b09c13862831row5_col0 {\n",
       "            text-align:  left;\n",
       "        }    #T_3506477e_e650_11eb_b71d_b09c13862831row6_col0 {\n",
       "            text-align:  left;\n",
       "        }    #T_3506477e_e650_11eb_b71d_b09c13862831row7_col0 {\n",
       "            text-align:  left;\n",
       "        }    #T_3506477e_e650_11eb_b71d_b09c13862831row8_col0 {\n",
       "            text-align:  left;\n",
       "        }    #T_3506477e_e650_11eb_b71d_b09c13862831row9_col0 {\n",
       "            text-align:  left;\n",
       "        }    #T_3506477e_e650_11eb_b71d_b09c13862831row10_col0 {\n",
       "            text-align:  left;\n",
       "        }</style><table id=\"T_3506477e_e650_11eb_b71d_b09c13862831\" ><thead>    <tr>        <th class=\"blank level0\" ></th>        <th class=\"col_heading level0 col0\" >Infosys Limited</th>    </tr></thead><tbody>\n",
       "                <tr>\n",
       "                        <th id=\"T_3506477e_e650_11eb_b71d_b09c13862831level0_row0\" class=\"row_heading level0 row0\" >1</th>\n",
       "                        <td id=\"T_3506477e_e650_11eb_b71d_b09c13862831row0_col0\" class=\"data row0 col0\" >Date of Listing (NSE) : 08-Feb-1995</td>\n",
       "            </tr>\n",
       "            <tr>\n",
       "                        <th id=\"T_3506477e_e650_11eb_b71d_b09c13862831level0_row1\" class=\"row_heading level0 row1\" >2</th>\n",
       "                        <td id=\"T_3506477e_e650_11eb_b71d_b09c13862831row1_col0\" class=\"data row1 col0\" >Face Value :         5.00</td>\n",
       "            </tr>\n",
       "            <tr>\n",
       "                        <th id=\"T_3506477e_e650_11eb_b71d_b09c13862831level0_row2\" class=\"row_heading level0 row2\" >3</th>\n",
       "                        <td id=\"T_3506477e_e650_11eb_b71d_b09c13862831row2_col0\" class=\"data row2 col0\" >ISIN : INE009A01021</td>\n",
       "            </tr>\n",
       "            <tr>\n",
       "                        <th id=\"T_3506477e_e650_11eb_b71d_b09c13862831level0_row3\" class=\"row_heading level0 row3\" >4</th>\n",
       "                        <td id=\"T_3506477e_e650_11eb_b71d_b09c13862831row3_col0\" class=\"data row3 col0\" >Industry : COMPUTERS - SOFTWARE</td>\n",
       "            </tr>\n",
       "            <tr>\n",
       "                        <th id=\"T_3506477e_e650_11eb_b71d_b09c13862831level0_row4\" class=\"row_heading level0 row4\" >5</th>\n",
       "                        <td id=\"T_3506477e_e650_11eb_b71d_b09c13862831row4_col0\" class=\"data row4 col0\" >Constituent Indices : ,NIFTY 500,NIFTY IT,NIFTY 50,NIFTY 100,NIFTY 200,NIFTY SERVICES SECTOR</td>\n",
       "            </tr>\n",
       "            <tr>\n",
       "                        <th id=\"T_3506477e_e650_11eb_b71d_b09c13862831level0_row5\" class=\"row_heading level0 row5\" >6</th>\n",
       "                        <td id=\"T_3506477e_e650_11eb_b71d_b09c13862831row5_col0\" class=\"data row5 col0\" ></td>\n",
       "            </tr>\n",
       "            <tr>\n",
       "                        <th id=\"T_3506477e_e650_11eb_b71d_b09c13862831level0_row6\" class=\"row_heading level0 row6\" >7</th>\n",
       "                        <td id=\"T_3506477e_e650_11eb_b71d_b09c13862831row6_col0\" class=\"data row6 col0\" >Issued Cap. :       4261271763(shares) as on 16-Jul-2021</td>\n",
       "            </tr>\n",
       "            <tr>\n",
       "                        <th id=\"T_3506477e_e650_11eb_b71d_b09c13862831level0_row7\" class=\"row_heading level0 row7\" >8</th>\n",
       "                        <td id=\"T_3506477e_e650_11eb_b71d_b09c13862831row7_col0\" class=\"data row7 col0\" >Free Float Market Cap. *:   576652.98(Cr) </td>\n",
       "            </tr>\n",
       "            <tr>\n",
       "                        <th id=\"T_3506477e_e650_11eb_b71d_b09c13862831level0_row8\" class=\"row_heading level0 row8\" >9</th>\n",
       "                        <td id=\"T_3506477e_e650_11eb_b71d_b09c13862831row8_col0\" class=\"data row8 col0\" >Impact Cost:    0.02 as on Jun-2021</td>\n",
       "            </tr>\n",
       "            <tr>\n",
       "                        <th id=\"T_3506477e_e650_11eb_b71d_b09c13862831level0_row9\" class=\"row_heading level0 row9\" >10</th>\n",
       "                        <td id=\"T_3506477e_e650_11eb_b71d_b09c13862831row9_col0\" class=\"data row9 col0\" >52 week high/low price : 1596.85/794.80</td>\n",
       "            </tr>\n",
       "            <tr>\n",
       "                        <th id=\"T_3506477e_e650_11eb_b71d_b09c13862831level0_row10\" class=\"row_heading level0 row10\" >11</th>\n",
       "                        <td id=\"T_3506477e_e650_11eb_b71d_b09c13862831row10_col0\" class=\"data row10 col0\" >*  Free-float market capitalization as on the previous trading day. </td>\n",
       "            </tr>\n",
       "    </tbody></table>"
      ],
      "text/plain": [
       "<pandas.io.formats.style.Styler at 0x25addc43a08>"
      ]
     },
     "metadata": {},
     "output_type": "display_data"
    }
   ],
   "source": [
    "display(left_aligned_order_df)"
   ]
  },
  {
   "cell_type": "code",
   "execution_count": 84,
   "metadata": {},
   "outputs": [],
   "source": [
    "order_book_table.to_csv(\"Company Information.csv\",index = None)"
   ]
  },
  {
   "cell_type": "code",
   "execution_count": 54,
   "metadata": {},
   "outputs": [],
   "source": [
    "#corporate action\n",
    "\n",
    "Corporate_result = soup.find('div',attrs={'id': 'corpAction'})\n",
    "tablerow = Corporate_result.find_all('tr')\n",
    "corporate_list = []\n",
    "\n",
    "\n",
    "for tr in tablerow:\n",
    "    td = tr.find_all('td')\n",
    "    row = [tr.text for tr in td]\n",
    "    corporate_list.append(row)\n",
    "    \n",
    "Corporate_Table_info = pd.DataFrame(corporate_list, columns=['Ex-Date','','','','Purpose'])\n",
    "c = Corporate_Table_info.drop([0], axis=0)"
   ]
  },
  {
   "cell_type": "code",
   "execution_count": 66,
   "metadata": {},
   "outputs": [
    {
     "data": {
      "text/html": [
       "<div>\n",
       "<style scoped>\n",
       "    .dataframe tbody tr th:only-of-type {\n",
       "        vertical-align: middle;\n",
       "    }\n",
       "\n",
       "    .dataframe tbody tr th {\n",
       "        vertical-align: top;\n",
       "    }\n",
       "\n",
       "    .dataframe thead th {\n",
       "        text-align: right;\n",
       "    }\n",
       "</style>\n",
       "<table border=\"1\" class=\"dataframe\">\n",
       "  <thead>\n",
       "    <tr style=\"text-align: right;\">\n",
       "      <th></th>\n",
       "      <th>Ex-Date</th>\n",
       "      <th></th>\n",
       "      <th></th>\n",
       "      <th></th>\n",
       "      <th>Purpose</th>\n",
       "    </tr>\n",
       "  </thead>\n",
       "  <tbody>\n",
       "    <tr>\n",
       "      <td>1</td>\n",
       "      <td></td>\n",
       "      <td>31-May-2021</td>\n",
       "      <td>:</td>\n",
       "      <td>ANNUAL GENERAL MEETING/DIVIDEND - RS 15 PER S...</td>\n",
       "      <td></td>\n",
       "    </tr>\n",
       "    <tr>\n",
       "      <td>2</td>\n",
       "      <td></td>\n",
       "      <td>23-Oct-2020</td>\n",
       "      <td>:</td>\n",
       "      <td>INTERIM DIVIDEND - RS 12 PER SHARE</td>\n",
       "      <td></td>\n",
       "    </tr>\n",
       "    <tr>\n",
       "      <td>3</td>\n",
       "      <td></td>\n",
       "      <td>29-May-2020</td>\n",
       "      <td>:</td>\n",
       "      <td>DIVIDEND - RS 9.50 PER SHARE</td>\n",
       "      <td></td>\n",
       "    </tr>\n",
       "    <tr>\n",
       "      <td>4</td>\n",
       "      <td></td>\n",
       "      <td>23-Oct-2019</td>\n",
       "      <td>:</td>\n",
       "      <td>INTERIM DIVIDEND - RS 8 PER SHARE</td>\n",
       "      <td></td>\n",
       "    </tr>\n",
       "    <tr>\n",
       "      <td>5</td>\n",
       "      <td></td>\n",
       "      <td>13-Jun-2019</td>\n",
       "      <td>:</td>\n",
       "      <td>ANNUAL GENERAL MEETING/DIVIDEND- RS 10.50 PER...</td>\n",
       "      <td></td>\n",
       "    </tr>\n",
       "  </tbody>\n",
       "</table>\n",
       "</div>"
      ],
      "text/plain": [
       "  Ex-Date                    \\\n",
       "1          31-May-2021   :    \n",
       "2          23-Oct-2020   :    \n",
       "3          29-May-2020   :    \n",
       "4          23-Oct-2019   :    \n",
       "5          13-Jun-2019   :    \n",
       "\n",
       "                                                     Purpose  \n",
       "1   ANNUAL GENERAL MEETING/DIVIDEND - RS 15 PER S...          \n",
       "2                 INTERIM DIVIDEND - RS 12 PER SHARE          \n",
       "3                       DIVIDEND - RS 9.50 PER SHARE          \n",
       "4                  INTERIM DIVIDEND - RS 8 PER SHARE          \n",
       "5   ANNUAL GENERAL MEETING/DIVIDEND- RS 10.50 PER...          "
      ]
     },
     "metadata": {},
     "output_type": "display_data"
    }
   ],
   "source": [
    "display(Corporate_Table_info)"
   ]
  },
  {
   "cell_type": "code",
   "execution_count": 85,
   "metadata": {},
   "outputs": [],
   "source": [
    "Corporate_Table_info.to_csv(\"corporate information.csv\",index = None)"
   ]
  },
  {
   "cell_type": "code",
   "execution_count": 80,
   "metadata": {},
   "outputs": [],
   "source": [
    "#announcement\n",
    "announcement_result = soup.find('div',attrs={'id': 'annoucement'})\n",
    "trow = announcement_result.find_all('tr')\n",
    "announcement_list = []\n",
    "\n",
    "\n",
    "for tr in trow:\n",
    "    td = tr.find_all('td')\n",
    "    row = [tr.text for tr in td]\n",
    "    announcement_list.append(row)\n",
    "\n",
    "announcement_Table_info = pd.DataFrame(announcement_list, columns=['','ANNOUNCEMENTS',''])\n",
    "announcement_Table_info = announcement_Table_info.drop([0], axis=0)"
   ]
  },
  {
   "cell_type": "code",
   "execution_count": 81,
   "metadata": {},
   "outputs": [
    {
     "data": {
      "text/html": [
       "<div>\n",
       "<style scoped>\n",
       "    .dataframe tbody tr th:only-of-type {\n",
       "        vertical-align: middle;\n",
       "    }\n",
       "\n",
       "    .dataframe tbody tr th {\n",
       "        vertical-align: top;\n",
       "    }\n",
       "\n",
       "    .dataframe thead th {\n",
       "        text-align: right;\n",
       "    }\n",
       "</style>\n",
       "<table border=\"1\" class=\"dataframe\">\n",
       "  <thead>\n",
       "    <tr style=\"text-align: right;\">\n",
       "      <th></th>\n",
       "      <th></th>\n",
       "      <th>ANNOUNCEMENTS</th>\n",
       "      <th></th>\n",
       "    </tr>\n",
       "  </thead>\n",
       "  <tbody>\n",
       "    <tr>\n",
       "      <td>1</td>\n",
       "      <td></td>\n",
       "      <td>- Daily Buy-Back of equity shares  Jul 15, 20...</td>\n",
       "      <td></td>\n",
       "    </tr>\n",
       "    <tr>\n",
       "      <td>2</td>\n",
       "      <td></td>\n",
       "      <td>- Copy of Newspaper Publication  Jul 15, 2021...</td>\n",
       "      <td></td>\n",
       "    </tr>\n",
       "    <tr>\n",
       "      <td>3</td>\n",
       "      <td></td>\n",
       "      <td>- Updates  Jul 15, 2021, 18:04</td>\n",
       "      <td></td>\n",
       "    </tr>\n",
       "    <tr>\n",
       "      <td>4</td>\n",
       "      <td></td>\n",
       "      <td>- Daily Buy-Back of equity shares  Jul 14, 20...</td>\n",
       "      <td></td>\n",
       "    </tr>\n",
       "  </tbody>\n",
       "</table>\n",
       "</div>"
      ],
      "text/plain": [
       "                                          ANNOUNCEMENTS   \n",
       "1      - Daily Buy-Back of equity shares  Jul 15, 20...   \n",
       "2      - Copy of Newspaper Publication  Jul 15, 2021...   \n",
       "3                        - Updates  Jul 15, 2021, 18:04   \n",
       "4      - Daily Buy-Back of equity shares  Jul 14, 20...   "
      ]
     },
     "execution_count": 81,
     "metadata": {},
     "output_type": "execute_result"
    }
   ],
   "source": [
    "announcement_Table_info"
   ]
  },
  {
   "cell_type": "code",
   "execution_count": 86,
   "metadata": {},
   "outputs": [],
   "source": [
    "announcement_Table_info.to_csv(\"announcements.csv\",index = None)"
   ]
  },
  {
   "cell_type": "code",
   "execution_count": null,
   "metadata": {},
   "outputs": [],
   "source": []
  }
 ],
 "metadata": {
  "kernelspec": {
   "display_name": "Python 3",
   "language": "python",
   "name": "python3"
  },
  "language_info": {
   "codemirror_mode": {
    "name": "ipython",
    "version": 3
   },
   "file_extension": ".py",
   "mimetype": "text/x-python",
   "name": "python",
   "nbconvert_exporter": "python",
   "pygments_lexer": "ipython3",
   "version": "3.7.4"
  }
 },
 "nbformat": 4,
 "nbformat_minor": 2
}
